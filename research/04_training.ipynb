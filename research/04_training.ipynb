{
 "cells": [
  {
   "cell_type": "code",
   "execution_count": 1,
   "id": "99b1d134",
   "metadata": {},
   "outputs": [],
   "source": [
    "import os"
   ]
  },
  {
   "cell_type": "code",
   "execution_count": 2,
   "id": "e39ffcdb",
   "metadata": {},
   "outputs": [
    {
     "name": "stdout",
     "output_type": "stream",
     "text": [
      "WARNING:tensorflow:From C:\\Users\\jv3250328\\AppData\\Local\\Temp\\ipykernel_28948\\4097398778.py:3: The name tf.enable_eager_execution is deprecated. Please use tf.compat.v1.enable_eager_execution instead.\n",
      "\n"
     ]
    }
   ],
   "source": [
    "import tensorflow as tf\n",
    "tf.config.run_functions_eagerly(True)\n",
    "tf.compat.v1.enable_eager_execution()"
   ]
  },
  {
   "cell_type": "code",
   "execution_count": 3,
   "id": "d059c956",
   "metadata": {},
   "outputs": [
    {
     "name": "stdout",
     "output_type": "stream",
     "text": [
      "c:\\Users\\jv3250328\\Downloads\\End_To_End_Machine_Learning_Project_MLOps\n"
     ]
    }
   ],
   "source": [
    "os.chdir(\"../\")\n",
    "print(os.getcwd())"
   ]
  },
  {
   "cell_type": "code",
   "execution_count": 4,
   "id": "c96c41f2",
   "metadata": {},
   "outputs": [],
   "source": [
    "from pathlib import Path\n",
    "from dataclasses import dataclass\n",
    "\n",
    "@dataclass(frozen = True)\n",
    "class TrainingConfig:\n",
    "    root_dir: Path\n",
    "    trained_model_path: Path\n",
    "    updated_base_model_path: Path\n",
    "    training_data: Path\n",
    "    param_epochs: int\n",
    "    param_batch_size: int\n",
    "    param_is_augmentation: bool\n",
    "    param_image_size: list\n",
    "\n",
    "@dataclass(frozen = True)    \n",
    "class PrepareCallbacksConfig:\n",
    "    root_dir: Path\n",
    "    tensorboard_root_log_dir: Path\n",
    "    checkpoint_model_filepath: Path    "
   ]
  },
  {
   "cell_type": "code",
   "execution_count": 5,
   "id": "cd8ae1a5",
   "metadata": {},
   "outputs": [],
   "source": [
    "import tensorflow as tf\n",
    "from End_to_End_ML_Pipeline.constants import *\n",
    "from End_to_End_ML_Pipeline.utils.common import read_yaml, create_directories"
   ]
  },
  {
   "cell_type": "code",
   "execution_count": 6,
   "id": "58756672",
   "metadata": {},
   "outputs": [],
   "source": [
    "class ConfigurationManager:\n",
    "    def __init__(\n",
    "        self,\n",
    "        config_filepath = CONFIG_FILE_PATH,\n",
    "        params_filepath = PARAMS_FILE_PATH\n",
    "    ):\n",
    "        self.config = read_yaml(config_filepath)\n",
    "        self.params = read_yaml(params_filepath)\n",
    "        create_directories([self.config.artifacts_root])\n",
    "        \n",
    "    def get_prepare_callback_config(self) -> PrepareCallbacksConfig:\n",
    "        config = self.config.prepare_callbacks\n",
    "        model_ckpt_dir = os.path.dirname(config.checkpoint_model_filepath)\n",
    "        create_directories([\n",
    "            Path(model_ckpt_dir),\n",
    "            Path(config.tensorboard_root_log_dir)\n",
    "        ])\n",
    "        \n",
    "        prepare_callback_config = PrepareCallbacksConfig(\n",
    "            root_dir = Path(config.root_dir),\n",
    "            tensorboard_root_log_dir = Path(config.tensorboard_root_log_dir),\n",
    "            checkpoint_model_filepath = Path(config.checkpoint_model_filepath)\n",
    "        )\n",
    "        \n",
    "        return prepare_callback_config\n",
    "    \n",
    "    \n",
    "    def get_training_config(self) -> TrainingConfig:\n",
    "        training = self.config.training\n",
    "        prepare_base_model = self.config.prepare_base_model\n",
    "        params = self.params\n",
    "        training_data = os.path.join(\n",
    "            self.config.data_ingestion.unzip_dir,\n",
    "            \"Chicken-fecal-images\"\n",
    "        )\n",
    "        \n",
    "        create_directories([\n",
    "            Path(training.root_dir)\n",
    "        ])\n",
    "        \n",
    "        training_config = TrainingConfig(\n",
    "            root_dir = Path(training.root_dir),\n",
    "            trained_model_path = Path(training.trained_model_path),\n",
    "            updated_base_model_path = Path(prepare_base_model.updated_base_model_path),\n",
    "            training_data = Path(training_data),\n",
    "            param_epochs = params.EPOCHS,\n",
    "            param_batch_size = params.BATCH_SIZE,\n",
    "            param_is_augmentation = params.AUGMENTATION,\n",
    "            param_image_size = params.IMAGE_SIZE\n",
    "        )\n",
    "        \n",
    "        return training_config    "
   ]
  },
  {
   "cell_type": "code",
   "execution_count": 7,
   "id": "03b3b58c",
   "metadata": {},
   "outputs": [],
   "source": [
    "import time"
   ]
  },
  {
   "cell_type": "code",
   "execution_count": 8,
   "id": "c00f3882",
   "metadata": {},
   "outputs": [],
   "source": [
    "class PrepareCallbacks:\n",
    "    def __init__(self, config: PrepareCallbacksConfig):\n",
    "        self.config = config\n",
    "    \n",
    "    @property\n",
    "    def _create_tb_callbacks(self):\n",
    "        timestamp = time.strftime(\"%Y-%m-%d-%H-%M-%S\")\n",
    "        tb_runnning_log_dir = os.path.join(\n",
    "            self.config.tensorboard_root_log_dir,\n",
    "            f\"tb_logs_at_{timestamp}\"\n",
    "        )\n",
    "        return tf.keras.callbacks.TensorBoard(log_dir = tb_runnning_log_dir)\n",
    "    \n",
    "    @property\n",
    "    def _create_ckpt_callbacks(self):\n",
    "        return tf.keras.callbacks.ModelCheckpoint(\n",
    "            filepath = self.config.checkpoint_model_filepath,\n",
    "            save_best_only = True\n",
    "        )\n",
    "        \n",
    "    def get_tb_ckpt_callbacks(self):\n",
    "        return [self._create_tb_callbacks, self._create_ckpt_callbacks]  "
   ]
  },
  {
   "cell_type": "code",
   "execution_count": 9,
   "id": "5eaa61cb",
   "metadata": {},
   "outputs": [],
   "source": [
    "import os\n",
    "import time\n",
    "import tensorflow as tf\n",
    "from zipfile import ZipFile\n",
    "import urllib.request as request"
   ]
  },
  {
   "cell_type": "code",
   "execution_count": 10,
   "id": "7e2cc605",
   "metadata": {},
   "outputs": [],
   "source": [
    "class Training:\n",
    "    def __init__(self, config: TrainingConfig):\n",
    "        self.config = config\n",
    "        \n",
    "    def get_base_model(self):\n",
    "        self.model = tf.keras.models.load_model(\n",
    "            self.config.updated_base_model_path\n",
    "        )\n",
    "    \n",
    "    def recompile_model(self):\n",
    "        # Always use a new optimizer instance when compiling the model\n",
    "        self.model.compile(\n",
    "            optimizer = tf.keras.optimizers.Adam(),\n",
    "            loss = tf.keras.losses.CategoricalCrossentropy(),\n",
    "            metrics = [\"accuracy\"]\n",
    "        )\n",
    "    \n",
    "    def train_valid_generator(self):\n",
    "        datagenerator_kwargs = dict(\n",
    "            rescale = 1./255,\n",
    "            validation_split = 0.20\n",
    "        )\n",
    "        \n",
    "        dataflow_kwargs = dict(\n",
    "            target_size = self.config.param_image_size[:-1],\n",
    "            batch_size = self.config.param_batch_size,\n",
    "            interpolation = \"bilinear\"\n",
    "        )\n",
    "        \n",
    "        valid_datagenerator = tf.keras.preprocessing.image.ImageDataGenerator(\n",
    "            **datagenerator_kwargs\n",
    "        )\n",
    "        \n",
    "        self.valid_generator = valid_datagenerator.flow_from_directory(\n",
    "            directory = self.config.training_data,\n",
    "            subset = \"validation\",\n",
    "            shuffle = False,\n",
    "            **dataflow_kwargs\n",
    "        )\n",
    "        \n",
    "        if self.config.param_is_augmentation:\n",
    "            train_datagenerator = tf.keras.preprocessing.image.ImageDataGenerator(\n",
    "                rotation_range = 40,\n",
    "                horizontal_flip = True,\n",
    "                width_shift_range = 0.2,\n",
    "                height_shift_range = 0.2,\n",
    "                shear_range = 0.2,\n",
    "                zoom_range = 0.2,\n",
    "                **datagenerator_kwargs\n",
    "            )\n",
    "        else:\n",
    "            train_datagenerator = valid_datagenerator\n",
    "            \n",
    "        self.train_generator = train_datagenerator.flow_from_directory(\n",
    "            directory = self.config.training_data,\n",
    "            subset = \"training\",\n",
    "            shuffle = True,\n",
    "            **dataflow_kwargs\n",
    "        )\n",
    "        \n",
    "    @staticmethod\n",
    "    def save_model(path: Path, model: tf.keras.Model):\n",
    "        model.save(path)\n",
    "        \n",
    "    def train(self, callback_list: list):\n",
    "        # Recompile the model with a new optimizer instance before training\n",
    "        self.recompile_model()\n",
    "        self.steps_per_epoch = self.train_generator.samples // self.train_generator.batch_size\n",
    "        self.validation_steps = self.valid_generator.samples // self.valid_generator.batch_size\n",
    "        \n",
    "        self.model.fit(\n",
    "            self.train_generator,\n",
    "            epochs = self.config.param_epochs,\n",
    "            steps_per_epoch = self.steps_per_epoch,\n",
    "            validation_steps = self.validation_steps,\n",
    "            validation_data = self.valid_generator,\n",
    "            callbacks = callback_list\n",
    "        )\n",
    "        \n",
    "        self.save_model(\n",
    "            path = self.config.trained_model_path,\n",
    "            model = self.model\n",
    "        )"
   ]
  },
  {
   "cell_type": "code",
   "execution_count": 11,
   "id": "2f1705f7",
   "metadata": {},
   "outputs": [
    {
     "name": "stdout",
     "output_type": "stream",
     "text": [
      "[2025-08-24 17:25:27,944: INFO: common]: yaml file: config\\config.yaml loaded successfully\n",
      "[2025-08-24 17:25:27,948: INFO: common]: yaml file: params.yaml loaded successfully\n",
      "[2025-08-24 17:25:27,952: INFO: common]: Directory created at: artifacts\n",
      "[2025-08-24 17:25:27,955: INFO: common]: Directory created at: artifacts\\prepare_callbacks\\checkpoint\n",
      "[2025-08-24 17:25:27,958: INFO: common]: Directory created at: artifacts\\prepare_callbacks\\tensorboard_log_dir\n",
      "[2025-08-24 17:25:27,948: INFO: common]: yaml file: params.yaml loaded successfully\n",
      "[2025-08-24 17:25:27,952: INFO: common]: Directory created at: artifacts\n",
      "[2025-08-24 17:25:27,955: INFO: common]: Directory created at: artifacts\\prepare_callbacks\\checkpoint\n",
      "[2025-08-24 17:25:27,958: INFO: common]: Directory created at: artifacts\\prepare_callbacks\\tensorboard_log_dir\n",
      "[2025-08-24 17:25:27,960: INFO: common]: Directory created at: artifacts\\training\n",
      "[2025-08-24 17:25:27,960: INFO: common]: Directory created at: artifacts\\training\n",
      "[2025-08-24 17:25:28,297: WARNING: saving_utils]: Compiled the loaded model, but the compiled metrics have yet to be built. `model.compile_metrics` will be empty until you train or evaluate the model.\n",
      "[2025-08-24 17:25:28,297: WARNING: saving_utils]: Compiled the loaded model, but the compiled metrics have yet to be built. `model.compile_metrics` will be empty until you train or evaluate the model.\n",
      "Found 78 images belonging to 2 classes.\n",
      "Found 78 images belonging to 2 classes.\n",
      "Found 312 images belonging to 2 classes.\n",
      "Found 312 images belonging to 2 classes.\n"
     ]
    },
    {
     "name": "stderr",
     "output_type": "stream",
     "text": [
      "c:\\Users\\jv3250328\\.conda\\envs\\chicken\\Lib\\site-packages\\keras\\src\\trainers\\data_adapters\\py_dataset_adapter.py:121: UserWarning: Your `PyDataset` class should call `super().__init__(**kwargs)` in its constructor. `**kwargs` can include `workers`, `use_multiprocessing`, `max_queue_size`. Do not pass these arguments to `fit()`, as they will be ignored.\n",
      "  self._warn_if_super_not_called()\n",
      "c:\\Users\\jv3250328\\.conda\\envs\\chicken\\Lib\\site-packages\\tensorflow\\python\\data\\ops\\structured_function.py:258: UserWarning: Even though the `tf.config.experimental_run_functions_eagerly` option is set, this option does not apply to tf.data functions. To force eager execution of tf.data functions, please use `tf.data.experimental.enable_debug_mode()`.\n",
      "  warnings.warn(\n",
      "c:\\Users\\jv3250328\\.conda\\envs\\chicken\\Lib\\site-packages\\tensorflow\\python\\data\\ops\\structured_function.py:258: UserWarning: Even though the `tf.config.experimental_run_functions_eagerly` option is set, this option does not apply to tf.data functions. To force eager execution of tf.data functions, please use `tf.data.experimental.enable_debug_mode()`.\n",
      "  warnings.warn(\n"
     ]
    },
    {
     "name": "stdout",
     "output_type": "stream",
     "text": [
      "\u001b[1m19/19\u001b[0m \u001b[32m━━━━━━━━━━━━━━━━━━━━\u001b[0m\u001b[37m\u001b[0m \u001b[1m0s\u001b[0m 8s/step - accuracy: 0.5019 - loss: 10.5197"
     ]
    },
    {
     "name": "stderr",
     "output_type": "stream",
     "text": [
      "c:\\Users\\jv3250328\\.conda\\envs\\chicken\\Lib\\site-packages\\keras\\src\\trainers\\data_adapters\\py_dataset_adapter.py:121: UserWarning: Your `PyDataset` class should call `super().__init__(**kwargs)` in its constructor. `**kwargs` can include `workers`, `use_multiprocessing`, `max_queue_size`. Do not pass these arguments to `fit()`, as they will be ignored.\n",
      "  self._warn_if_super_not_called()\n"
     ]
    },
    {
     "name": "stdout",
     "output_type": "stream",
     "text": [
      "[2025-08-24 17:28:13,443: WARNING: saving_api]: You are saving your model as an HDF5 file via `model.save()` or `keras.saving.save_model(model)`. This file format is considered legacy. We recommend using instead the native Keras format, e.g. `model.save('my_model.keras')` or `keras.saving.save_model(model, 'my_model.keras')`. \n",
      "\u001b[1m19/19\u001b[0m \u001b[32m━━━━━━━━━━━━━━━━━━━━\u001b[0m\u001b[37m\u001b[0m \u001b[1m163s\u001b[0m 9s/step - accuracy: 0.4764 - loss: 5.7318 - val_accuracy: 0.6094 - val_loss: 0.6873\n",
      "\u001b[1m19/19\u001b[0m \u001b[32m━━━━━━━━━━━━━━━━━━━━\u001b[0m\u001b[37m\u001b[0m \u001b[1m163s\u001b[0m 9s/step - accuracy: 0.4764 - loss: 5.7318 - val_accuracy: 0.6094 - val_loss: 0.6873\n",
      "[2025-08-24 17:28:13,997: WARNING: saving_api]: You are saving your model as an HDF5 file via `model.save()` or `keras.saving.save_model(model)`. This file format is considered legacy. We recommend using instead the native Keras format, e.g. `model.save('my_model.keras')` or `keras.saving.save_model(model, 'my_model.keras')`. \n",
      "[2025-08-24 17:28:13,997: WARNING: saving_api]: You are saving your model as an HDF5 file via `model.save()` or `keras.saving.save_model(model)`. This file format is considered legacy. We recommend using instead the native Keras format, e.g. `model.save('my_model.keras')` or `keras.saving.save_model(model, 'my_model.keras')`. \n"
     ]
    }
   ],
   "source": [
    "try:\n",
    "    config = ConfigurationManager()\n",
    "    prepare_callbacks_config = config.get_prepare_callback_config()\n",
    "    prepare_callbacks = PrepareCallbacks(config = prepare_callbacks_config)\n",
    "    callback_list = prepare_callbacks.get_tb_ckpt_callbacks()\n",
    "    \n",
    "    training_config = config.get_training_config()\n",
    "    training = Training(config = training_config)\n",
    "    training.get_base_model()\n",
    "    training.train_valid_generator()\n",
    "    training.train(callback_list = callback_list)\n",
    "except Exception as e:\n",
    "    raise e"
   ]
  }
 ],
 "metadata": {
  "kernelspec": {
   "display_name": "chicken",
   "language": "python",
   "name": "python3"
  },
  "language_info": {
   "codemirror_mode": {
    "name": "ipython",
    "version": 3
   },
   "file_extension": ".py",
   "mimetype": "text/x-python",
   "name": "python",
   "nbconvert_exporter": "python",
   "pygments_lexer": "ipython3",
   "version": "3.13.5"
  }
 },
 "nbformat": 4,
 "nbformat_minor": 5
}
